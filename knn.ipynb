{
  "nbformat": 4,
  "nbformat_minor": 0,
  "metadata": {
    "colab": {
      "provenance": []
    },
    "kernelspec": {
      "name": "python3",
      "display_name": "Python 3"
    },
    "language_info": {
      "name": "python"
    }
  },
  "cells": [
    {
      "cell_type": "code",
      "source": [
        "import numpy as np\n",
        "import math"
      ],
      "metadata": {
        "id": "M_e8uhFtxUZC"
      },
      "execution_count": null,
      "outputs": []
    },
    {
      "cell_type": "code",
      "execution_count": null,
      "metadata": {
        "id": "f36FjdRbw4-X"
      },
      "outputs": [],
      "source": [
        "class KNNRecognizer:\n",
        "    def __init__(self, n_neighbors=5):\n",
        "        self.n_neighbors = n_neighbors\n",
        "        self.dataset = []\n",
        "\n",
        "\n",
        "    def calcDistances(self,pointA, pointB):\n",
        "        # tmp = 0\n",
        "        # for i in range(numOfFeature):\n",
        "        #     tmp += (float(pointA[i]) - float(pointB[i])) ** 2\n",
        "        return  np.linalg.norm(pointA - pointB)\n",
        "\n",
        "    def train(self, x_train, y_train):\n",
        "\n",
        "\n",
        "\n",
        "        for i in range( len(x_train)):\n",
        "            self.dataset.append({\n",
        "                \"label\": y_train[i],\n",
        "                \"matrix\": x_train[i]\n",
        "            })\n",
        "\n",
        "\n",
        "\n",
        "    def predict(self, x):\n",
        "        distances = []\n",
        "        for data in self.dataset:\n",
        "            distances.append({\n",
        "            \"label\": data['label'],\n",
        "            \"value\": self.calcDistances(data['matrix'], x)\n",
        "        })\n",
        "        labels = [item[\"label\"] for item in distances[:self.n_neighbors]]\n",
        "        prediction = max(set(labels), key=labels.count)\n",
        "        return prediction"
      ]
    },
    {
      "cell_type": "code",
      "source": [
        "\n",
        "matrices = [np.random.rand(6, 1) for _ in range(5)]\n",
        "\n",
        "\n",
        "knn = KNNRecognizer(n_neighbors=2)\n",
        "knn.train(matrices, [1, 2, 1, 2, 2])\n",
        "\n",
        "a = knn.predict(np.random.rand(6, 1))\n",
        "print(f\"Predicted label: {a}\")"
      ],
      "metadata": {
        "colab": {
          "base_uri": "https://localhost:8080/"
        },
        "id": "nf_e1QXSyIoq",
        "outputId": "febdb36b-7b29-41b5-e063-2ed1cddcb085"
      },
      "execution_count": null,
      "outputs": [
        {
          "output_type": "stream",
          "name": "stdout",
          "text": [
            "Predicted label: 1\n"
          ]
        }
      ]
    }
  ]
}